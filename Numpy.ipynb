{
  "nbformat": 4,
  "nbformat_minor": 0,
  "metadata": {
    "colab": {
      "provenance": [],
      "authorship_tag": "ABX9TyPLMmRmcDfmVeT6e8EL3Vnt",
      "include_colab_link": true
    },
    "kernelspec": {
      "name": "python3",
      "display_name": "Python 3"
    },
    "language_info": {
      "name": "python"
    }
  },
  "cells": [
    {
      "cell_type": "markdown",
      "metadata": {
        "id": "view-in-github",
        "colab_type": "text"
      },
      "source": [
        "<a href=\"https://colab.research.google.com/github/akshayashok-lx/Numpy/blob/main/Numpy.ipynb\" target=\"_parent\"><img src=\"https://colab.research.google.com/assets/colab-badge.svg\" alt=\"Open In Colab\"/></a>"
      ]
    },
    {
      "cell_type": "code",
      "execution_count": 1,
      "metadata": {
        "colab": {
          "base_uri": "https://localhost:8080/"
        },
        "id": "q6xxt0HbFfBC",
        "outputId": "a6386118-c248-4e30-f227-f526205c862b"
      },
      "outputs": [
        {
          "output_type": "stream",
          "name": "stdout",
          "text": [
            "[1 2 3 4 5 6]\n",
            "[1.  2.  3.  4.  5.6]\n",
            "['1' '2' '3' '4' '5' '6']\n"
          ]
        }
      ],
      "source": [
        "import numpy as np    # numerical python\n",
        "\n",
        "#Array -> same collection of data with same datatype (homogeneous)\n",
        "\n",
        "a=np.array([1,2,3,4,5,6])\n",
        "print(a)\n",
        "\n",
        "b=np.array([1,2,3,4,5.6])\n",
        "print(b)\n",
        "\n",
        "c=np.array([1,2,3,4,5,\"6\"])\n",
        "print(c)\n",
        "\n"
      ]
    },
    {
      "cell_type": "code",
      "source": [
        "#Slicing = *Forward Slicing and *Backward Slicing\n",
        "\n",
        "b=np.array([1,2,3,4,5])\n",
        "\n",
        "print(b[0:2])\n",
        "print(b[-1:-3:-1])\n",
        "print(b[3: :])\n",
        "print(b[-4: :-1])"
      ],
      "metadata": {
        "colab": {
          "base_uri": "https://localhost:8080/"
        },
        "id": "3jHfLvCtGozC",
        "outputId": "3e94ec98-547a-40aa-c430-2436594884f5"
      },
      "execution_count": 2,
      "outputs": [
        {
          "output_type": "stream",
          "name": "stdout",
          "text": [
            "[1 2]\n",
            "[5 4]\n",
            "[4 5]\n",
            "[2 1]\n"
          ]
        }
      ]
    },
    {
      "cell_type": "code",
      "source": [
        "#Dimension\n",
        "\n",
        "a=np.array([0])    # ndim is used to check dimension\n",
        "print(a.ndim)  #n.dim=1 its a vector\n",
        "\n",
        "\n",
        "b=np.array([[1,2],[3,4]])\n",
        "print(b.ndim)  #n.dim=2 its a 2d array\n",
        "print(b)\n",
        "\n",
        "print(b.shape)   # to check the shape  or know how many  rows and columns eg (2,2) rows =2 ,columns =2"
      ],
      "metadata": {
        "colab": {
          "base_uri": "https://localhost:8080/"
        },
        "id": "irVKmy9WH2KG",
        "outputId": "128f9f56-3bfa-4daf-8166-7cb0debb3248"
      },
      "execution_count": 3,
      "outputs": [
        {
          "output_type": "stream",
          "name": "stdout",
          "text": [
            "1\n",
            "2\n",
            "[[1 2]\n",
            " [3 4]]\n",
            "(2, 2)\n"
          ]
        }
      ]
    },
    {
      "cell_type": "code",
      "source": [
        "# create a 2x2 matrix 2,3,4,5\n",
        "\n",
        "a=np.array([[2,3],[4,5]])\n",
        "print(a.ndim)\n",
        "print(a.shape)\n",
        "print(a)"
      ],
      "metadata": {
        "colab": {
          "base_uri": "https://localhost:8080/"
        },
        "id": "ChFZ39pTJRoK",
        "outputId": "2e35472d-8769-42c8-c8da-7f06ae9a2dfa"
      },
      "execution_count": 4,
      "outputs": [
        {
          "output_type": "stream",
          "name": "stdout",
          "text": [
            "2\n",
            "(2, 2)\n",
            "[[2 3]\n",
            " [4 5]]\n"
          ]
        }
      ]
    },
    {
      "cell_type": "code",
      "source": [
        "# create a 2x3 matrix and print it size , shape and dimensions\n",
        "\n",
        "a=np.array([[1,2,3],[4,5,6]])\n",
        "print(a.ndim)\n",
        "print(a.shape)\n",
        "print(a)\n",
        "print(a.size)   # to check how many elements"
      ],
      "metadata": {
        "colab": {
          "base_uri": "https://localhost:8080/"
        },
        "id": "98M7W5CNK0Zy",
        "outputId": "0036f21a-56a5-4d79-a0e1-06ac24f9b3e0"
      },
      "execution_count": 5,
      "outputs": [
        {
          "output_type": "stream",
          "name": "stdout",
          "text": [
            "2\n",
            "(2, 3)\n",
            "[[1 2 3]\n",
            " [4 5 6]]\n",
            "6\n"
          ]
        }
      ]
    },
    {
      "cell_type": "code",
      "source": [
        "#create 4x2 matrix and find its size,shape.....\n",
        "\n",
        "a=np.array([[1,2],[3,4],[5,6],[7,8]])\n",
        "print(a)\n",
        "print(a.ndim)\n",
        "print(a.size)\n",
        "print(a.shape)"
      ],
      "metadata": {
        "colab": {
          "base_uri": "https://localhost:8080/"
        },
        "id": "X4AtFfrvMPak",
        "outputId": "4d77a99c-d4b3-4c1d-a9d5-c380d8274d20"
      },
      "execution_count": 6,
      "outputs": [
        {
          "output_type": "stream",
          "name": "stdout",
          "text": [
            "[[1 2]\n",
            " [3 4]\n",
            " [5 6]\n",
            " [7 8]]\n",
            "2\n",
            "8\n",
            "(4, 2)\n"
          ]
        }
      ]
    },
    {
      "cell_type": "code",
      "source": [
        "#create a 4x4 matrix and find its ......\n",
        "\n",
        "a=np.array([[1,2,3,4],[2,3,4,5],[3,4,5,6],[4,5,6,7]])\n",
        "print(a.size)\n",
        "print(a.ndim)\n",
        "print(a.shape)\n",
        "print(a)"
      ],
      "metadata": {
        "colab": {
          "base_uri": "https://localhost:8080/"
        },
        "id": "oWDtBtCsMp6O",
        "outputId": "f7b97781-0d58-48b2-afbb-affbdf06716b"
      },
      "execution_count": 7,
      "outputs": [
        {
          "output_type": "stream",
          "name": "stdout",
          "text": [
            "16\n",
            "2\n",
            "(4, 4)\n",
            "[[1 2 3 4]\n",
            " [2 3 4 5]\n",
            " [3 4 5 6]\n",
            " [4 5 6 7]]\n"
          ]
        }
      ]
    },
    {
      "cell_type": "markdown",
      "source": [
        "**DAY 2**"
      ],
      "metadata": {
        "id": "pmX9P2lXGFET"
      }
    },
    {
      "cell_type": "code",
      "source": [
        "import numpy as np\n",
        "\n",
        "print(a[0])    # to access the specific row\n",
        "print(a[:,0])  # to acces the specific column\n",
        "print(a[1,1])  # to acces a apecific number using row and column\n",
        "print(a[3,2:]) # to acces a set of adjacetnt\n",
        "print(a[3,0:2])\n",
        "print(a[2:,2:]) # to print a matrix\n"
      ],
      "metadata": {
        "colab": {
          "base_uri": "https://localhost:8080/"
        },
        "id": "R9dXClapFTDH",
        "outputId": "0c8f115c-2ea6-4a13-a1e8-a6255a3dc483"
      },
      "execution_count": 8,
      "outputs": [
        {
          "output_type": "stream",
          "name": "stdout",
          "text": [
            "[1 2 3 4]\n",
            "[1 2 3 4]\n",
            "3\n",
            "[6 7]\n",
            "[4 5]\n",
            "[[5 6]\n",
            " [6 7]]\n"
          ]
        }
      ]
    },
    {
      "cell_type": "code",
      "source": [
        "#zero matrix\n",
        "\n",
        "z=np.zeros([3,3])  #np.zeros is used to prtint a zero matrix , the dimension is given in t he bracket\n",
        "print(z)\n",
        "\n",
        "q=np.zeros([3,5],dtype=int) # dtype is used to change th edata type\n",
        "print(q)\n",
        "\n",
        "q=np.zeros([3,5],dtype=complex)\n",
        "print(q)\n"
      ],
      "metadata": {
        "colab": {
          "base_uri": "https://localhost:8080/"
        },
        "id": "I0VT7ehKKE6J",
        "outputId": "bf919812-fbc2-4ab7-8c3d-95005b3ec1e5"
      },
      "execution_count": 9,
      "outputs": [
        {
          "output_type": "stream",
          "name": "stdout",
          "text": [
            "[[0. 0. 0.]\n",
            " [0. 0. 0.]\n",
            " [0. 0. 0.]]\n",
            "[[0 0 0 0 0]\n",
            " [0 0 0 0 0]\n",
            " [0 0 0 0 0]]\n",
            "[[0.+0.j 0.+0.j 0.+0.j 0.+0.j 0.+0.j]\n",
            " [0.+0.j 0.+0.j 0.+0.j 0.+0.j 0.+0.j]\n",
            " [0.+0.j 0.+0.j 0.+0.j 0.+0.j 0.+0.j]]\n"
          ]
        }
      ]
    },
    {
      "cell_type": "code",
      "source": [
        "#one matrix\n",
        "\n",
        "x=np.ones([3,3],dtype=int)\n",
        "print(x)"
      ],
      "metadata": {
        "colab": {
          "base_uri": "https://localhost:8080/"
        },
        "id": "W1nm-cpiK6Xe",
        "outputId": "70eeb5f6-8851-4662-e8ce-3826329c0ac5"
      },
      "execution_count": 10,
      "outputs": [
        {
          "output_type": "stream",
          "name": "stdout",
          "text": [
            "[[1 1 1]\n",
            " [1 1 1]\n",
            " [1 1 1]]\n"
          ]
        }
      ]
    },
    {
      "cell_type": "code",
      "source": [
        "# create a 2x2 matrix\n",
        "\n",
        "a=np.array([[1,2],[3,4]])\n",
        "b=np.array([[3,1],[6,7]])\n"
      ],
      "metadata": {
        "id": "SnH_9U2xLf8C"
      },
      "execution_count": 11,
      "outputs": []
    },
    {
      "cell_type": "code",
      "source": [
        "#matrix addition\n",
        "print(a+b)\n",
        "print()\n",
        "\n",
        "#matrix subtraction\n",
        "print(a-b)\n",
        "print()\n",
        "\n",
        "#matrix multiplication\n",
        "print(a*b)   #not a matrix maultiplication\n",
        "print()\n",
        "\n",
        "print(a@b)\n",
        "print()\n",
        "\n",
        "print(a.dot(b))\n",
        "print()\n",
        "\n",
        "#matrix division\n",
        "print(a/b)\n"
      ],
      "metadata": {
        "colab": {
          "base_uri": "https://localhost:8080/"
        },
        "id": "_Rz-RT7qLt5o",
        "outputId": "21921367-dd77-4982-aa84-c7e6aceca0fc"
      },
      "execution_count": 12,
      "outputs": [
        {
          "output_type": "stream",
          "name": "stdout",
          "text": [
            "[[ 4  3]\n",
            " [ 9 11]]\n",
            "\n",
            "[[-2  1]\n",
            " [-3 -3]]\n",
            "\n",
            "[[ 3  2]\n",
            " [18 28]]\n",
            "\n",
            "[[15 15]\n",
            " [33 31]]\n",
            "\n",
            "[[15 15]\n",
            " [33 31]]\n",
            "\n",
            "[[0.33333333 2.        ]\n",
            " [0.5        0.57142857]]\n"
          ]
        }
      ]
    },
    {
      "cell_type": "code",
      "source": [
        "#full matrix\n",
        "          # if all the elements in the matrix is same it is called full matrix\n",
        "\n",
        "z=np.full([3,3],5,dtype=int)    #([dimension],elements)\n",
        "print(z)"
      ],
      "metadata": {
        "colab": {
          "base_uri": "https://localhost:8080/"
        },
        "id": "Hk_2fw0dL8Pk",
        "outputId": "f4817e0a-df2b-4540-842f-68d1fb30c13e"
      },
      "execution_count": 13,
      "outputs": [
        {
          "output_type": "stream",
          "name": "stdout",
          "text": [
            "[[5 5 5]\n",
            " [5 5 5]\n",
            " [5 5 5]]\n"
          ]
        }
      ]
    },
    {
      "cell_type": "code",
      "source": [
        "#create a matrix with value 9 and add data type complex\n",
        "\n",
        "a=np.full([3,3],9,dtype=complex)\n",
        "print(a)"
      ],
      "metadata": {
        "colab": {
          "base_uri": "https://localhost:8080/"
        },
        "id": "sQu9z9ZqOiCk",
        "outputId": "a184309d-4639-4319-e92b-25788fa77bcd"
      },
      "execution_count": 14,
      "outputs": [
        {
          "output_type": "stream",
          "name": "stdout",
          "text": [
            "[[9.+0.j 9.+0.j 9.+0.j]\n",
            " [9.+0.j 9.+0.j 9.+0.j]\n",
            " [9.+0.j 9.+0.j 9.+0.j]]\n"
          ]
        }
      ]
    },
    {
      "cell_type": "code",
      "source": [
        "# identity matrix\n",
        "\n",
        "z=np.identity(3)\n",
        "print(z)\n",
        "print()\n",
        "\n",
        "z=np.eye(3)   #it is used to print identity matrix\n",
        "print(z)"
      ],
      "metadata": {
        "colab": {
          "base_uri": "https://localhost:8080/"
        },
        "id": "bHcgo4VmO8Ic",
        "outputId": "4c61c912-7c19-42ad-97a0-773a655ee459"
      },
      "execution_count": 15,
      "outputs": [
        {
          "output_type": "stream",
          "name": "stdout",
          "text": [
            "[[1. 0. 0.]\n",
            " [0. 1. 0.]\n",
            " [0. 0. 1.]]\n",
            "\n",
            "[[1. 0. 0.]\n",
            " [0. 1. 0.]\n",
            " [0. 0. 1.]]\n"
          ]
        }
      ]
    },
    {
      "cell_type": "code",
      "source": [
        "#create a 4x4 matrix\n",
        "\n",
        "a=np.array([[1,2,3,4],[2,3,4,5],[3,4,5,6],[4,5,6,7]])\n",
        "print(a)\n",
        "print()          #to print blank space\n",
        "\n",
        "print(a.size)\n",
        "print()\n",
        "\n",
        "b=a.reshape(8,2)   # to change the shape of the matrix\n",
        "print(b)\n"
      ],
      "metadata": {
        "colab": {
          "base_uri": "https://localhost:8080/"
        },
        "id": "kE0tn4DMO75c",
        "outputId": "bfe5a29b-9f0f-492b-c327-295229f2e847"
      },
      "execution_count": 16,
      "outputs": [
        {
          "output_type": "stream",
          "name": "stdout",
          "text": [
            "[[1 2 3 4]\n",
            " [2 3 4 5]\n",
            " [3 4 5 6]\n",
            " [4 5 6 7]]\n",
            "\n",
            "16\n",
            "\n",
            "[[1 2]\n",
            " [3 4]\n",
            " [2 3]\n",
            " [4 5]\n",
            " [3 4]\n",
            " [5 6]\n",
            " [4 5]\n",
            " [6 7]]\n"
          ]
        }
      ]
    },
    {
      "cell_type": "code",
      "source": [
        "# arrange a particular range of numbers\n",
        "\n",
        "a=np.arange(1,10,2)   # start,end+1,step\n",
        "print(a)\n",
        "\n",
        "b=np.arange(1,12)\n",
        "print(b)\n"
      ],
      "metadata": {
        "colab": {
          "base_uri": "https://localhost:8080/"
        },
        "id": "BuiYhfXRO72v",
        "outputId": "6f4f3b7b-4250-4092-cc7d-635354771ef7"
      },
      "execution_count": 17,
      "outputs": [
        {
          "output_type": "stream",
          "name": "stdout",
          "text": [
            "[1 3 5 7 9]\n",
            "[ 1  2  3  4  5  6  7  8  9 10 11]\n"
          ]
        }
      ]
    },
    {
      "cell_type": "code",
      "source": [
        "#create a 5x2 matrix using arange\n",
        "\n",
        "a=np.arange(1,11).reshape(5,2)\n",
        "print(a)"
      ],
      "metadata": {
        "colab": {
          "base_uri": "https://localhost:8080/"
        },
        "id": "YEsOFo1wSrq3",
        "outputId": "bb5f0ee4-1dc2-4d4e-8250-bbc495f508d9"
      },
      "execution_count": 18,
      "outputs": [
        {
          "output_type": "stream",
          "name": "stdout",
          "text": [
            "[[ 1  2]\n",
            " [ 3  4]\n",
            " [ 5  6]\n",
            " [ 7  8]\n",
            " [ 9 10]]\n"
          ]
        }
      ]
    },
    {
      "cell_type": "code",
      "source": [
        "#create a 3x3 matrix with float  values\n",
        "\n",
        "a=np.array([[1.2,2.2,2.3],[2.2,3.2,4.2],[6.5,4.5,6.6]])\n",
        "print(a)"
      ],
      "metadata": {
        "colab": {
          "base_uri": "https://localhost:8080/"
        },
        "id": "zXthpU7mUA4L",
        "outputId": "cfc89a47-e416-4bc7-ec53-10d27bbc6046"
      },
      "execution_count": 19,
      "outputs": [
        {
          "output_type": "stream",
          "name": "stdout",
          "text": [
            "[[1.2 2.2 2.3]\n",
            " [2.2 3.2 4.2]\n",
            " [6.5 4.5 6.6]]\n"
          ]
        }
      ]
    },
    {
      "cell_type": "code",
      "source": [
        "#floor\n",
        "\n",
        "z=np.floor(a)   #floor is used to round to lower value\n",
        "print(z)"
      ],
      "metadata": {
        "colab": {
          "base_uri": "https://localhost:8080/"
        },
        "id": "qm79SWI-UwPB",
        "outputId": "13d2b8cf-2a72-4ca4-dc3c-8f651cd2f5f8"
      },
      "execution_count": 20,
      "outputs": [
        {
          "output_type": "stream",
          "name": "stdout",
          "text": [
            "[[1. 2. 2.]\n",
            " [2. 3. 4.]\n",
            " [6. 4. 6.]]\n"
          ]
        }
      ]
    },
    {
      "cell_type": "code",
      "source": [
        "#ceil\n",
        "\n",
        "z=np.ceil(a)   #ciel is used to round to upper value\n",
        "print(z)"
      ],
      "metadata": {
        "colab": {
          "base_uri": "https://localhost:8080/"
        },
        "id": "5ohcxRhqVCio",
        "outputId": "e4f498bb-ab41-451c-bdd6-8048a2937e3f"
      },
      "execution_count": 21,
      "outputs": [
        {
          "output_type": "stream",
          "name": "stdout",
          "text": [
            "[[2. 3. 3.]\n",
            " [3. 4. 5.]\n",
            " [7. 5. 7.]]\n"
          ]
        }
      ]
    },
    {
      "cell_type": "code",
      "source": [
        "#round\n",
        "\n",
        "z=np.round(a)   #round is used to round to value\n",
        "print(z)\n",
        "\n",
        "#incase of .5 it round towards even number eg 3.5 -> 4"
      ],
      "metadata": {
        "colab": {
          "base_uri": "https://localhost:8080/"
        },
        "id": "vYGDzvQTVlzw",
        "outputId": "9d0ce521-a1a9-4e2e-b742-ea7ea59104aa"
      },
      "execution_count": 22,
      "outputs": [
        {
          "output_type": "stream",
          "name": "stdout",
          "text": [
            "[[1. 2. 2.]\n",
            " [2. 3. 4.]\n",
            " [6. 4. 7.]]\n"
          ]
        }
      ]
    },
    {
      "cell_type": "code",
      "source": [
        "#create a 3x3 matrix\n",
        "\n",
        "a=np.arange(1,10).reshape(3,3)\n",
        "print(a)\n",
        "\n",
        "print(a.max()) # to find the max elememnts in the matrix\n",
        "\n",
        "print(a.max(axis=1))  # axis is used to find the max element in every row\n",
        "                      # axis=1 means row\n",
        "                      # axis=0 means column  in numpy\n",
        "\n",
        "\n",
        "print(a.min())\n",
        "print(a.min(axis=1))"
      ],
      "metadata": {
        "colab": {
          "base_uri": "https://localhost:8080/"
        },
        "id": "EX6qhKZiWFy-",
        "outputId": "3a6c8b97-8d14-4cbf-f836-64de06fce6d2"
      },
      "execution_count": 23,
      "outputs": [
        {
          "output_type": "stream",
          "name": "stdout",
          "text": [
            "[[1 2 3]\n",
            " [4 5 6]\n",
            " [7 8 9]]\n",
            "9\n",
            "[3 6 9]\n",
            "1\n",
            "[1 4 7]\n"
          ]
        }
      ]
    },
    {
      "cell_type": "markdown",
      "source": [
        "**DAY 3**\n"
      ],
      "metadata": {
        "id": "10yEwowojaUq"
      }
    },
    {
      "cell_type": "code",
      "source": [
        "print(a.sum())\n",
        "print(a.sum(axis=1))\n",
        "print(a.sum(axis=0))\n",
        "\n",
        "print()\n",
        "\n",
        "print(np.sqrt(a))\n",
        "\n",
        "print()\n",
        "\n",
        "print(np.sin(a))\n",
        "\n",
        "print()\n",
        "\n",
        "print(np.cos(a))\n",
        "\n",
        "print()\n",
        "\n",
        "print(np.tan(a))]\n",
        "\n",
        "print()\n",
        "\n",
        "print(a.flatten())    # to create a matix into a flat format\n"
      ],
      "metadata": {
        "colab": {
          "base_uri": "https://localhost:8080/"
        },
        "id": "FWagyuZ2j57f",
        "outputId": "7197fe45-ab4e-4c37-ac8a-68dae4edcfca"
      },
      "execution_count": 33,
      "outputs": [
        {
          "output_type": "stream",
          "name": "stdout",
          "text": [
            "45\n",
            "[ 6 15 24]\n",
            "[12 15 18]\n",
            "\n",
            "[[1.         1.41421356 1.73205081]\n",
            " [2.         2.23606798 2.44948974]\n",
            " [2.64575131 2.82842712 3.        ]]\n",
            "\n",
            "[[ 0.84147098  0.90929743  0.14112001]\n",
            " [-0.7568025  -0.95892427 -0.2794155 ]\n",
            " [ 0.6569866   0.98935825  0.41211849]]\n",
            "\n",
            "[[ 0.54030231 -0.41614684 -0.9899925 ]\n",
            " [-0.65364362  0.28366219  0.96017029]\n",
            " [ 0.75390225 -0.14550003 -0.91113026]]\n",
            "\n",
            "[[ 1.55740772 -2.18503986 -0.14254654]\n",
            " [ 1.15782128 -3.38051501 -0.29100619]\n",
            " [ 0.87144798 -6.79971146 -0.45231566]]\n",
            "\n",
            "[1 2 3 4 5 6 7 8 9]\n"
          ]
        }
      ]
    },
    {
      "cell_type": "code",
      "source": [
        "# creatae a 3x3 matrix\n",
        "\n",
        "a=np.arange(3,30,3).reshape(3,3)\n",
        "print(a)\n",
        "\n",
        "print(np.sort(a,axis=0))\n",
        "print()\n",
        "print(np.sort(a,axis=1))\n",
        "print()\n",
        "\n",
        "c=(np.argsort(a,axis=1))     # shows the index of thematrix  (arg)\n",
        "print(c)"
      ],
      "metadata": {
        "colab": {
          "base_uri": "https://localhost:8080/"
        },
        "id": "jI_PxnqRjdEj",
        "outputId": "d0db0d34-416e-4772-9178-0d45d3e71e38"
      },
      "execution_count": 44,
      "outputs": [
        {
          "output_type": "stream",
          "name": "stdout",
          "text": [
            "[[ 3  6  9]\n",
            " [12 15 18]\n",
            " [21 24 27]]\n",
            "[[ 3  6  9]\n",
            " [12 15 18]\n",
            " [21 24 27]]\n",
            "\n",
            "[[ 3  6  9]\n",
            " [12 15 18]\n",
            " [21 24 27]]\n",
            "\n",
            "[[0 1 2]\n",
            " [0 1 2]\n",
            " [0 1 2]]\n"
          ]
        }
      ]
    },
    {
      "cell_type": "code",
      "source": [],
      "metadata": {
        "id": "_Wl1nvwAlPBA"
      },
      "execution_count": null,
      "outputs": []
    },
    {
      "cell_type": "code",
      "source": [],
      "metadata": {
        "id": "CMZ1xto_lO-I"
      },
      "execution_count": null,
      "outputs": []
    },
    {
      "cell_type": "code",
      "source": [],
      "metadata": {
        "id": "2-2WZcS_lO7s"
      },
      "execution_count": null,
      "outputs": []
    }
  ]
}
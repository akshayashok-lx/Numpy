{
  "nbformat": 4,
  "nbformat_minor": 0,
  "metadata": {
    "colab": {
      "provenance": [],
      "authorship_tag": "ABX9TyNPTZVKhQJio+A3WmV1l4bS",
      "include_colab_link": true
    },
    "kernelspec": {
      "name": "python3",
      "display_name": "Python 3"
    },
    "language_info": {
      "name": "python"
    }
  },
  "cells": [
    {
      "cell_type": "markdown",
      "metadata": {
        "id": "view-in-github",
        "colab_type": "text"
      },
      "source": [
        "<a href=\"https://colab.research.google.com/github/akshayashok-lx/Numpy/blob/main/Numpy.ipynb\" target=\"_parent\"><img src=\"https://colab.research.google.com/assets/colab-badge.svg\" alt=\"Open In Colab\"/></a>"
      ]
    },
    {
      "cell_type": "code",
      "execution_count": 70,
      "metadata": {
        "colab": {
          "base_uri": "https://localhost:8080/"
        },
        "id": "q6xxt0HbFfBC",
        "outputId": "475dcd38-e78b-4c87-99d6-b312d624347f"
      },
      "outputs": [
        {
          "output_type": "stream",
          "name": "stdout",
          "text": [
            "[1 2 3 4 5 6]\n",
            "[1.  2.  3.  4.  5.6]\n",
            "['1' '2' '3' '4' '5' '6']\n"
          ]
        }
      ],
      "source": [
        "import numpy as np    # numerical python\n",
        "\n",
        "#Array -> same collection of data with same datatype (homogeneous)\n",
        "\n",
        "a=np.array([1,2,3,4,5,6])\n",
        "print(a)\n",
        "\n",
        "b=np.array([1,2,3,4,5.6])\n",
        "print(b)\n",
        "\n",
        "c=np.array([1,2,3,4,5,\"6\"])\n",
        "print(c)\n",
        "\n"
      ]
    },
    {
      "cell_type": "code",
      "source": [
        "#Slicing = *Forward Slicing and *Backward Slicing\n",
        "\n",
        "b=np.array([1,2,3,4,5])\n",
        "\n",
        "print(b[0:2])\n",
        "print(b[-1:-3:-1])\n",
        "print(b[3: :])\n",
        "print(b[-4: :-1])"
      ],
      "metadata": {
        "colab": {
          "base_uri": "https://localhost:8080/"
        },
        "id": "3jHfLvCtGozC",
        "outputId": "e694b0bf-c4cb-48d4-afdf-a464a5689166"
      },
      "execution_count": 71,
      "outputs": [
        {
          "output_type": "stream",
          "name": "stdout",
          "text": [
            "[1 2]\n",
            "[5 4]\n",
            "[4 5]\n",
            "[2 1]\n"
          ]
        }
      ]
    },
    {
      "cell_type": "code",
      "source": [
        "#Dimension\n",
        "\n",
        "a=np.array([0])    # ndim is used to check dimension\n",
        "print(a.ndim)  #n.dim=1 its a vector\n",
        "\n",
        "\n",
        "b=np.array([[1,2],[3,4]])\n",
        "print(b.ndim)  #n.dim=2 its a 2d array\n",
        "print(b)\n",
        "\n",
        "print(b.shape)   # to check the shape  or know how many  rows and columns eg (2,2) rows =2 ,columns =2"
      ],
      "metadata": {
        "colab": {
          "base_uri": "https://localhost:8080/"
        },
        "id": "irVKmy9WH2KG",
        "outputId": "7ab37213-cde1-4b53-9e64-8b1d7750687b"
      },
      "execution_count": 72,
      "outputs": [
        {
          "output_type": "stream",
          "name": "stdout",
          "text": [
            "1\n",
            "2\n",
            "[[1 2]\n",
            " [3 4]]\n",
            "(2, 2)\n"
          ]
        }
      ]
    },
    {
      "cell_type": "code",
      "source": [
        "# create a 2x2 matrix 2,3,4,5\n",
        "\n",
        "a=np.array([[2,3],[4,5]])\n",
        "print(a.ndim)\n",
        "print(a.shape)\n",
        "print(a)"
      ],
      "metadata": {
        "colab": {
          "base_uri": "https://localhost:8080/"
        },
        "id": "ChFZ39pTJRoK",
        "outputId": "044511ff-6081-48dc-85cf-bd40705a1f71"
      },
      "execution_count": 73,
      "outputs": [
        {
          "output_type": "stream",
          "name": "stdout",
          "text": [
            "2\n",
            "(2, 2)\n",
            "[[2 3]\n",
            " [4 5]]\n"
          ]
        }
      ]
    },
    {
      "cell_type": "code",
      "source": [
        "# create a 2x3 matrix and print it size , shape and dimensions\n",
        "\n",
        "a=np.array([[1,2,3],[4,5,6]])\n",
        "print(a.ndim)\n",
        "print(a.shape)\n",
        "print(a)\n",
        "print(a.size)   # to check how many elements"
      ],
      "metadata": {
        "colab": {
          "base_uri": "https://localhost:8080/"
        },
        "id": "98M7W5CNK0Zy",
        "outputId": "b3e170ab-4ec8-4228-f5e0-edb6b5bad551"
      },
      "execution_count": 74,
      "outputs": [
        {
          "output_type": "stream",
          "name": "stdout",
          "text": [
            "2\n",
            "(2, 3)\n",
            "[[1 2 3]\n",
            " [4 5 6]]\n",
            "6\n"
          ]
        }
      ]
    },
    {
      "cell_type": "code",
      "source": [
        "#create 4x2 matrix and find its size,shape.....\n",
        "\n",
        "a=np.array([[1,2],[3,4],[5,6],[7,8]])\n",
        "print(a)\n",
        "print(a.ndim)\n",
        "print(a.size)\n",
        "print(a.shape)"
      ],
      "metadata": {
        "colab": {
          "base_uri": "https://localhost:8080/"
        },
        "id": "X4AtFfrvMPak",
        "outputId": "b3370f37-7e78-43a1-8baf-9a66305e7209"
      },
      "execution_count": 75,
      "outputs": [
        {
          "output_type": "stream",
          "name": "stdout",
          "text": [
            "[[1 2]\n",
            " [3 4]\n",
            " [5 6]\n",
            " [7 8]]\n",
            "2\n",
            "8\n",
            "(4, 2)\n"
          ]
        }
      ]
    },
    {
      "cell_type": "code",
      "source": [
        "#create a 4x4 matrix and find its ......\n",
        "\n",
        "a=np.array([[1,2,3,4],[2,3,4,5],[3,4,5,6],[4,5,6,7]])\n",
        "print(a.size)\n",
        "print(a.ndim)\n",
        "print(a.shape)\n",
        "print(a)"
      ],
      "metadata": {
        "colab": {
          "base_uri": "https://localhost:8080/"
        },
        "id": "oWDtBtCsMp6O",
        "outputId": "a6d2f8e0-c2db-4713-909b-0702e6a6bfb6"
      },
      "execution_count": 76,
      "outputs": [
        {
          "output_type": "stream",
          "name": "stdout",
          "text": [
            "16\n",
            "2\n",
            "(4, 4)\n",
            "[[1 2 3 4]\n",
            " [2 3 4 5]\n",
            " [3 4 5 6]\n",
            " [4 5 6 7]]\n"
          ]
        }
      ]
    },
    {
      "cell_type": "code",
      "source": [
        "import numpy as np\n",
        "\n",
        "print(a[0])    # to access the specific row\n",
        "print(a[:,0])  # to acces the specific column\n",
        "print(a[1,1])  # to acces a apecific number using row and column\n",
        "print(a[3,2:]) # to acces a set of adjacetnt\n",
        "print(a[3,0:2])\n",
        "print(a[2:,2:]) # to print a matrix\n"
      ],
      "metadata": {
        "colab": {
          "base_uri": "https://localhost:8080/"
        },
        "id": "R9dXClapFTDH",
        "outputId": "168cf87c-efc4-4093-ba35-5bb38bc2603a"
      },
      "execution_count": 77,
      "outputs": [
        {
          "output_type": "stream",
          "name": "stdout",
          "text": [
            "[1 2 3 4]\n",
            "[1 2 3 4]\n",
            "3\n",
            "[6 7]\n",
            "[4 5]\n",
            "[[5 6]\n",
            " [6 7]]\n"
          ]
        }
      ]
    },
    {
      "cell_type": "code",
      "source": [
        "#zero matrix\n",
        "\n",
        "z=np.zeros([3,3])  #np.zeros is used to prtint a zero matrix , the dimension is given in t he bracket\n",
        "print(z)\n",
        "\n",
        "q=np.zeros([3,5],dtype=int) # dtype is used to change th edata type\n",
        "print(q)\n",
        "\n",
        "q=np.zeros([3,5],dtype=complex)\n",
        "print(q)\n"
      ],
      "metadata": {
        "colab": {
          "base_uri": "https://localhost:8080/"
        },
        "id": "I0VT7ehKKE6J",
        "outputId": "4e21e28a-48b2-4f5d-8e63-ccca0243c5c7"
      },
      "execution_count": 78,
      "outputs": [
        {
          "output_type": "stream",
          "name": "stdout",
          "text": [
            "[[0. 0. 0.]\n",
            " [0. 0. 0.]\n",
            " [0. 0. 0.]]\n",
            "[[0 0 0 0 0]\n",
            " [0 0 0 0 0]\n",
            " [0 0 0 0 0]]\n",
            "[[0.+0.j 0.+0.j 0.+0.j 0.+0.j 0.+0.j]\n",
            " [0.+0.j 0.+0.j 0.+0.j 0.+0.j 0.+0.j]\n",
            " [0.+0.j 0.+0.j 0.+0.j 0.+0.j 0.+0.j]]\n"
          ]
        }
      ]
    },
    {
      "cell_type": "code",
      "source": [
        "#one matrix\n",
        "\n",
        "x=np.ones([3,3],dtype=int)\n",
        "print(x)"
      ],
      "metadata": {
        "colab": {
          "base_uri": "https://localhost:8080/"
        },
        "id": "W1nm-cpiK6Xe",
        "outputId": "7ebb8282-3944-4287-8610-45826cb3cfe1"
      },
      "execution_count": 79,
      "outputs": [
        {
          "output_type": "stream",
          "name": "stdout",
          "text": [
            "[[1 1 1]\n",
            " [1 1 1]\n",
            " [1 1 1]]\n"
          ]
        }
      ]
    },
    {
      "cell_type": "code",
      "source": [
        "# create a 2x2 matrix\n",
        "\n",
        "a=np.array([[1,2],[3,4]])\n",
        "b=np.array([[3,1],[6,7]])\n"
      ],
      "metadata": {
        "id": "SnH_9U2xLf8C"
      },
      "execution_count": 80,
      "outputs": []
    },
    {
      "cell_type": "code",
      "source": [
        "#matrix addition\n",
        "print(a+b)\n",
        "print()\n",
        "\n",
        "#matrix subtraction\n",
        "print(a-b)\n",
        "print()\n",
        "\n",
        "#matrix multiplication\n",
        "print(a*b)   #not a matrix maultiplication\n",
        "print()\n",
        "\n",
        "print(a@b)\n",
        "print()\n",
        "\n",
        "print(a.dot(b))\n",
        "print()\n",
        "\n",
        "#matrix division\n",
        "print(a/b)\n"
      ],
      "metadata": {
        "colab": {
          "base_uri": "https://localhost:8080/"
        },
        "id": "_Rz-RT7qLt5o",
        "outputId": "5f8fae59-5e4f-4e93-9ebe-887ff7d0c61f"
      },
      "execution_count": 81,
      "outputs": [
        {
          "output_type": "stream",
          "name": "stdout",
          "text": [
            "[[ 4  3]\n",
            " [ 9 11]]\n",
            "\n",
            "[[-2  1]\n",
            " [-3 -3]]\n",
            "\n",
            "[[ 3  2]\n",
            " [18 28]]\n",
            "\n",
            "[[15 15]\n",
            " [33 31]]\n",
            "\n",
            "[[15 15]\n",
            " [33 31]]\n",
            "\n",
            "[[0.33333333 2.        ]\n",
            " [0.5        0.57142857]]\n"
          ]
        }
      ]
    },
    {
      "cell_type": "code",
      "source": [
        "#full matrix\n",
        "          # if all the elements in the matrix is same it is called full matrix\n",
        "\n",
        "z=np.full([3,3],5,dtype=int)    #([dimension],elements)\n",
        "print(z)"
      ],
      "metadata": {
        "colab": {
          "base_uri": "https://localhost:8080/"
        },
        "id": "Hk_2fw0dL8Pk",
        "outputId": "3bd9afee-cf75-4cc1-8633-0c98c167ce44"
      },
      "execution_count": 82,
      "outputs": [
        {
          "output_type": "stream",
          "name": "stdout",
          "text": [
            "[[5 5 5]\n",
            " [5 5 5]\n",
            " [5 5 5]]\n"
          ]
        }
      ]
    },
    {
      "cell_type": "code",
      "source": [
        "#create a matrix with value 9 and add data type complex\n",
        "\n",
        "a=np.full([3,3],9,dtype=complex)\n",
        "print(a)"
      ],
      "metadata": {
        "colab": {
          "base_uri": "https://localhost:8080/"
        },
        "id": "sQu9z9ZqOiCk",
        "outputId": "f9662588-c6a3-4c68-8893-172f1d9e695d"
      },
      "execution_count": 83,
      "outputs": [
        {
          "output_type": "stream",
          "name": "stdout",
          "text": [
            "[[9.+0.j 9.+0.j 9.+0.j]\n",
            " [9.+0.j 9.+0.j 9.+0.j]\n",
            " [9.+0.j 9.+0.j 9.+0.j]]\n"
          ]
        }
      ]
    },
    {
      "cell_type": "code",
      "source": [
        "# identity matrix\n",
        "\n",
        "z=np.identity(3)\n",
        "print(z)\n",
        "print()\n",
        "\n",
        "z=np.eye(3)   #it is used to print identity matrix\n",
        "print(z)"
      ],
      "metadata": {
        "colab": {
          "base_uri": "https://localhost:8080/"
        },
        "id": "bHcgo4VmO8Ic",
        "outputId": "f60ae730-1299-4d28-b40b-1c174f99c65a"
      },
      "execution_count": 84,
      "outputs": [
        {
          "output_type": "stream",
          "name": "stdout",
          "text": [
            "[[1. 0. 0.]\n",
            " [0. 1. 0.]\n",
            " [0. 0. 1.]]\n",
            "\n",
            "[[1. 0. 0.]\n",
            " [0. 1. 0.]\n",
            " [0. 0. 1.]]\n"
          ]
        }
      ]
    },
    {
      "cell_type": "code",
      "source": [
        "#create a 4x4 matrix\n",
        "\n",
        "a=np.array([[1,2,3,4],[2,3,4,5],[3,4,5,6],[4,5,6,7]])\n",
        "print(a)\n",
        "print()          #to print blank space\n",
        "\n",
        "print(a.size)\n",
        "print()\n",
        "\n",
        "b=a.reshape(8,2)   # to change the shape of the matrix\n",
        "print(b)\n"
      ],
      "metadata": {
        "colab": {
          "base_uri": "https://localhost:8080/"
        },
        "id": "kE0tn4DMO75c",
        "outputId": "493d282f-c348-42c5-a5c7-4aae899af421"
      },
      "execution_count": 85,
      "outputs": [
        {
          "output_type": "stream",
          "name": "stdout",
          "text": [
            "[[1 2 3 4]\n",
            " [2 3 4 5]\n",
            " [3 4 5 6]\n",
            " [4 5 6 7]]\n",
            "\n",
            "16\n",
            "\n",
            "[[1 2]\n",
            " [3 4]\n",
            " [2 3]\n",
            " [4 5]\n",
            " [3 4]\n",
            " [5 6]\n",
            " [4 5]\n",
            " [6 7]]\n"
          ]
        }
      ]
    },
    {
      "cell_type": "code",
      "source": [
        "# arrange a particular range of numbers\n",
        "\n",
        "a=np.arange(1,10,2)   # start,end+1,step\n",
        "print(a)\n",
        "\n",
        "b=np.arange(1,12)\n",
        "print(b)\n"
      ],
      "metadata": {
        "colab": {
          "base_uri": "https://localhost:8080/"
        },
        "id": "BuiYhfXRO72v",
        "outputId": "8c603596-d86b-40c3-d122-cb6460762db0"
      },
      "execution_count": 86,
      "outputs": [
        {
          "output_type": "stream",
          "name": "stdout",
          "text": [
            "[1 3 5 7 9]\n",
            "[ 1  2  3  4  5  6  7  8  9 10 11]\n"
          ]
        }
      ]
    },
    {
      "cell_type": "code",
      "source": [
        "#create a 5x2 matrix using arange\n",
        "\n",
        "a=np.arange(1,11).reshape(5,2)\n",
        "print(a)"
      ],
      "metadata": {
        "colab": {
          "base_uri": "https://localhost:8080/"
        },
        "id": "YEsOFo1wSrq3",
        "outputId": "4e93c659-edd8-499f-e950-dec443888882"
      },
      "execution_count": 87,
      "outputs": [
        {
          "output_type": "stream",
          "name": "stdout",
          "text": [
            "[[ 1  2]\n",
            " [ 3  4]\n",
            " [ 5  6]\n",
            " [ 7  8]\n",
            " [ 9 10]]\n"
          ]
        }
      ]
    },
    {
      "cell_type": "code",
      "source": [
        "#create a 3x3 matrix with float  values\n",
        "\n",
        "a=np.array([[1.2,2.2,2.3],[2.2,3.2,4.2],[6.5,4.5,6.6]])\n",
        "print(a)"
      ],
      "metadata": {
        "colab": {
          "base_uri": "https://localhost:8080/"
        },
        "id": "zXthpU7mUA4L",
        "outputId": "944b1137-acad-47b8-9a12-e25d6a45b583"
      },
      "execution_count": 88,
      "outputs": [
        {
          "output_type": "stream",
          "name": "stdout",
          "text": [
            "[[1.2 2.2 2.3]\n",
            " [2.2 3.2 4.2]\n",
            " [6.5 4.5 6.6]]\n"
          ]
        }
      ]
    },
    {
      "cell_type": "code",
      "source": [
        "#floor\n",
        "\n",
        "z=np.floor(a)   #floor is used to round to lower value\n",
        "print(z)"
      ],
      "metadata": {
        "colab": {
          "base_uri": "https://localhost:8080/"
        },
        "id": "qm79SWI-UwPB",
        "outputId": "e25d62d6-eb37-464e-bc65-f9c754636920"
      },
      "execution_count": 89,
      "outputs": [
        {
          "output_type": "stream",
          "name": "stdout",
          "text": [
            "[[1. 2. 2.]\n",
            " [2. 3. 4.]\n",
            " [6. 4. 6.]]\n"
          ]
        }
      ]
    },
    {
      "cell_type": "code",
      "source": [
        "#ceil\n",
        "\n",
        "z=np.ceil(a)   #ciel is used to round to upper value\n",
        "print(z)"
      ],
      "metadata": {
        "colab": {
          "base_uri": "https://localhost:8080/"
        },
        "id": "5ohcxRhqVCio",
        "outputId": "3dc64348-118b-49e7-c905-47a0b9dac486"
      },
      "execution_count": 90,
      "outputs": [
        {
          "output_type": "stream",
          "name": "stdout",
          "text": [
            "[[2. 3. 3.]\n",
            " [3. 4. 5.]\n",
            " [7. 5. 7.]]\n"
          ]
        }
      ]
    },
    {
      "cell_type": "code",
      "source": [
        "#round\n",
        "\n",
        "z=np.round(a)   #round is used to round to value\n",
        "print(z)\n",
        "\n",
        "#incase of .5 it round towards even number eg 3.5 -> 4"
      ],
      "metadata": {
        "colab": {
          "base_uri": "https://localhost:8080/"
        },
        "id": "vYGDzvQTVlzw",
        "outputId": "ff899830-7484-49e2-819c-ce2983ea87a4"
      },
      "execution_count": 91,
      "outputs": [
        {
          "output_type": "stream",
          "name": "stdout",
          "text": [
            "[[1. 2. 2.]\n",
            " [2. 3. 4.]\n",
            " [6. 4. 7.]]\n"
          ]
        }
      ]
    },
    {
      "cell_type": "code",
      "source": [
        "#create a 3x3 matrix\n",
        "\n",
        "a=np.arange(1,10).reshape(3,3)\n",
        "print(a)\n",
        "\n",
        "print(a.max()) # to find the max elememnts in the matrix\n",
        "\n",
        "print(a.max(axis=1))  # axis is used to find the max element in every row\n",
        "                      # axis=1 means row\n",
        "                      # axis=0 means column  in numpy\n",
        "\n",
        "\n",
        "print(a.min())\n",
        "print(a.min(axis=1))"
      ],
      "metadata": {
        "colab": {
          "base_uri": "https://localhost:8080/"
        },
        "id": "EX6qhKZiWFy-",
        "outputId": "f824719f-08de-4661-b9e8-b108a6087824"
      },
      "execution_count": 92,
      "outputs": [
        {
          "output_type": "stream",
          "name": "stdout",
          "text": [
            "[[1 2 3]\n",
            " [4 5 6]\n",
            " [7 8 9]]\n",
            "9\n",
            "[3 6 9]\n",
            "1\n",
            "[1 4 7]\n"
          ]
        }
      ]
    },
    {
      "cell_type": "code",
      "source": [
        "print(a.sum())\n",
        "print(a.sum(axis=1))\n",
        "print(a.sum(axis=0))\n",
        "\n",
        "print()\n",
        "\n",
        "print(np.sqrt(a))\n",
        "\n",
        "print()\n",
        "\n",
        "print(np.sin(a))\n",
        "\n",
        "print()\n",
        "\n",
        "print(np.cos(a))\n",
        "\n",
        "print()\n",
        "\n",
        "print(np.tan(a))\n",
        "\n",
        "print()\n",
        "\n",
        "print(a.flatten())    # to create a matix into a flat format\n"
      ],
      "metadata": {
        "colab": {
          "base_uri": "https://localhost:8080/"
        },
        "id": "FWagyuZ2j57f",
        "outputId": "83010822-bb67-4e17-8224-26965c5240e7"
      },
      "execution_count": 93,
      "outputs": [
        {
          "output_type": "stream",
          "name": "stdout",
          "text": [
            "45\n",
            "[ 6 15 24]\n",
            "[12 15 18]\n",
            "\n",
            "[[1.         1.41421356 1.73205081]\n",
            " [2.         2.23606798 2.44948974]\n",
            " [2.64575131 2.82842712 3.        ]]\n",
            "\n",
            "[[ 0.84147098  0.90929743  0.14112001]\n",
            " [-0.7568025  -0.95892427 -0.2794155 ]\n",
            " [ 0.6569866   0.98935825  0.41211849]]\n",
            "\n",
            "[[ 0.54030231 -0.41614684 -0.9899925 ]\n",
            " [-0.65364362  0.28366219  0.96017029]\n",
            " [ 0.75390225 -0.14550003 -0.91113026]]\n",
            "\n",
            "[[ 1.55740772 -2.18503986 -0.14254654]\n",
            " [ 1.15782128 -3.38051501 -0.29100619]\n",
            " [ 0.87144798 -6.79971146 -0.45231566]]\n",
            "\n",
            "[1 2 3 4 5 6 7 8 9]\n"
          ]
        }
      ]
    },
    {
      "cell_type": "code",
      "source": [
        "# creatae a 3x3 matrix\n",
        "\n",
        "a=np.arange(3,30,3).reshape(3,3)\n",
        "print(a)\n",
        "\n",
        "print(np.sort(a,axis=0))\n",
        "print()\n",
        "print(np.sort(a,axis=1))\n",
        "print()\n",
        "\n",
        "c=(np.argsort(a,axis=1))     # shows the index of thematrix  (arg)\n",
        "print(c)"
      ],
      "metadata": {
        "colab": {
          "base_uri": "https://localhost:8080/"
        },
        "id": "jI_PxnqRjdEj",
        "outputId": "a72e098f-bff4-4ed8-ceef-dcc3f114034d"
      },
      "execution_count": 94,
      "outputs": [
        {
          "output_type": "stream",
          "name": "stdout",
          "text": [
            "[[ 3  6  9]\n",
            " [12 15 18]\n",
            " [21 24 27]]\n",
            "[[ 3  6  9]\n",
            " [12 15 18]\n",
            " [21 24 27]]\n",
            "\n",
            "[[ 3  6  9]\n",
            " [12 15 18]\n",
            " [21 24 27]]\n",
            "\n",
            "[[0 1 2]\n",
            " [0 1 2]\n",
            " [0 1 2]]\n"
          ]
        }
      ]
    }
  ]
}